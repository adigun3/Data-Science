{
  "nbformat": 4,
  "nbformat_minor": 0,
  "metadata": {
    "colab": {
      "name": "Copy of artificial_neural_network.ipynb",
      "provenance": [],
      "collapsed_sections": [],
      "toc_visible": true,
      "include_colab_link": true
    },
    "kernelspec": {
      "name": "python3",
      "display_name": "Python 3"
    }
  },
  "cells": [
    {
      "cell_type": "markdown",
      "metadata": {
        "id": "view-in-github",
        "colab_type": "text"
      },
      "source": [
        "<a href=\"https://colab.research.google.com/github/adigun3/Data-Science/blob/master/Classification_artificial_neural_network.ipynb\" target=\"_parent\"><img src=\"https://colab.research.google.com/assets/colab-badge.svg\" alt=\"Open In Colab\"/></a>"
      ]
    },
    {
      "cell_type": "markdown",
      "metadata": {
        "id": "lP6JLo1tGNBg",
        "colab_type": "text"
      },
      "source": [
        "# Artificial Neural Network"
      ]
    },
    {
      "cell_type": "markdown",
      "metadata": {
        "id": "gWZyYmS_UE_L",
        "colab_type": "text"
      },
      "source": [
        "### Importing the libraries"
      ]
    },
    {
      "cell_type": "code",
      "metadata": {
        "id": "MxkJoQBkUIHC",
        "colab_type": "code",
        "colab": {}
      },
      "source": [
        "import numpy as np\n",
        "import pandas as pd\n",
        "import tensorflow as tf"
      ],
      "execution_count": 0,
      "outputs": []
    },
    {
      "cell_type": "code",
      "metadata": {
        "id": "ZaTwK7ojXr2F",
        "colab_type": "code",
        "outputId": "e67d0ce8-1df4-41c6-ec23-e30b26fea8bf",
        "colab": {
          "base_uri": "https://localhost:8080/",
          "height": 34
        }
      },
      "source": [
        "tf.__version__"
      ],
      "execution_count": 2,
      "outputs": [
        {
          "output_type": "execute_result",
          "data": {
            "text/plain": [
              "'2.2.0'"
            ]
          },
          "metadata": {
            "tags": []
          },
          "execution_count": 2
        }
      ]
    },
    {
      "cell_type": "markdown",
      "metadata": {
        "id": "1E0Q3aoKUCRX",
        "colab_type": "text"
      },
      "source": [
        "## Part 1 - Data Preprocessing"
      ]
    },
    {
      "cell_type": "markdown",
      "metadata": {
        "id": "cKWAkFVGUU0Z",
        "colab_type": "text"
      },
      "source": [
        "### Importing the dataset"
      ]
    },
    {
      "cell_type": "code",
      "metadata": {
        "id": "MXUkhkMfU4wq",
        "colab_type": "code",
        "colab": {}
      },
      "source": [
        "dataset = pd.read_csv('banknote_authentication_data.csv')\n",
        "X = dataset.iloc[:, :-1].values\n",
        "y = dataset.iloc[:, -1].values"
      ],
      "execution_count": 0,
      "outputs": []
    },
    {
      "cell_type": "code",
      "metadata": {
        "id": "VYP9cQTWbzuI",
        "colab_type": "code",
        "outputId": "2dd820d7-acb2-4784-d2d2-e798c02e1940",
        "colab": {
          "base_uri": "https://localhost:8080/",
          "height": 136
        }
      },
      "source": [
        "print(X)"
      ],
      "execution_count": 4,
      "outputs": [
        {
          "output_type": "stream",
          "text": [
            "[[  3.6216    8.6661   -2.8073   -0.44699]\n",
            " [  4.5459    8.1674   -2.4586   -1.4621 ]\n",
            " [  3.866    -2.6383    1.9242    0.10645]\n",
            " ...\n",
            " [ -3.7503  -13.4586   17.5932   -2.7771 ]\n",
            " [ -3.5637   -8.3827   12.393    -1.2823 ]\n",
            " [ -2.5419   -0.65804   2.6842    1.1952 ]]\n"
          ],
          "name": "stdout"
        }
      ]
    },
    {
      "cell_type": "code",
      "metadata": {
        "id": "38vKGE6Nb2RR",
        "colab_type": "code",
        "outputId": "245604c5-c6eb-4286-d0d7-1caf3b7fc25b",
        "colab": {
          "base_uri": "https://localhost:8080/",
          "height": 34
        }
      },
      "source": [
        "print(y)"
      ],
      "execution_count": 5,
      "outputs": [
        {
          "output_type": "stream",
          "text": [
            "[0 0 0 ... 1 1 1]\n"
          ],
          "name": "stdout"
        }
      ]
    },
    {
      "cell_type": "markdown",
      "metadata": {
        "id": "N6bQ0UgSU-NJ",
        "colab_type": "text"
      },
      "source": [
        "### Encoding categorical data"
      ]
    },
    {
      "cell_type": "markdown",
      "metadata": {
        "id": "le5MJreAbW52",
        "colab_type": "text"
      },
      "source": [
        "Label Encoding the \"Gender\" column"
      ]
    },
    {
      "cell_type": "code",
      "metadata": {
        "id": "PxVKWXxLbczC",
        "colab_type": "code",
        "colab": {}
      },
      "source": [
        "from sklearn.preprocessing import LabelEncoder\n",
        "le = LabelEncoder()\n",
        "X[:, 2] = le.fit_transform(X[:, 2])"
      ],
      "execution_count": 0,
      "outputs": []
    },
    {
      "cell_type": "code",
      "metadata": {
        "id": "-M1KboxFb6OO",
        "colab_type": "code",
        "outputId": "453c6b98-6627-4d1c-c8b8-696b8782e8d9",
        "colab": {
          "base_uri": "https://localhost:8080/",
          "height": 137
        }
      },
      "source": [
        "print(X)"
      ],
      "execution_count": 0,
      "outputs": [
        {
          "output_type": "stream",
          "text": [
            "[[619 'France' 0 ... 1 1 101348.88]\n",
            " [608 'Spain' 0 ... 0 1 112542.58]\n",
            " [502 'France' 0 ... 1 0 113931.57]\n",
            " ...\n",
            " [709 'France' 0 ... 0 1 42085.58]\n",
            " [772 'Germany' 1 ... 1 0 92888.52]\n",
            " [792 'France' 0 ... 1 0 38190.78]]\n"
          ],
          "name": "stdout"
        }
      ]
    },
    {
      "cell_type": "markdown",
      "metadata": {
        "id": "CUxGZezpbMcb",
        "colab_type": "text"
      },
      "source": [
        "One Hot Encoding the \"Geography\" column"
      ]
    },
    {
      "cell_type": "code",
      "metadata": {
        "id": "AMXC8-KMVirw",
        "colab_type": "code",
        "colab": {}
      },
      "source": [
        "from sklearn.compose import ColumnTransformer\n",
        "from sklearn.preprocessing import OneHotEncoder\n",
        "ct = ColumnTransformer(transformers=[('encoder', OneHotEncoder(), [1])], remainder='passthrough')\n",
        "X = np.array(ct.fit_transform(X))"
      ],
      "execution_count": 0,
      "outputs": []
    },
    {
      "cell_type": "code",
      "metadata": {
        "id": "ZcxwEon-b8nV",
        "colab_type": "code",
        "outputId": "ac5c314d-303b-4744-de77-d453b19e9ed3",
        "colab": {
          "base_uri": "https://localhost:8080/",
          "height": 137
        }
      },
      "source": [
        "print(X)"
      ],
      "execution_count": 0,
      "outputs": [
        {
          "output_type": "stream",
          "text": [
            "[[1.0 0.0 0.0 ... 1 1 101348.88]\n",
            " [0.0 0.0 1.0 ... 0 1 112542.58]\n",
            " [1.0 0.0 0.0 ... 1 0 113931.57]\n",
            " ...\n",
            " [1.0 0.0 0.0 ... 0 1 42085.58]\n",
            " [0.0 1.0 0.0 ... 1 0 92888.52]\n",
            " [1.0 0.0 0.0 ... 1 0 38190.78]]\n"
          ],
          "name": "stdout"
        }
      ]
    },
    {
      "cell_type": "markdown",
      "metadata": {
        "id": "vHol938cW8zd",
        "colab_type": "text"
      },
      "source": [
        "### Splitting the dataset into the Training set and Test set"
      ]
    },
    {
      "cell_type": "code",
      "metadata": {
        "id": "Z-TDt0Y_XEfc",
        "colab_type": "code",
        "colab": {}
      },
      "source": [
        "from sklearn.model_selection import train_test_split\n",
        "X_train, X_test, y_train, y_test = train_test_split(X, y, test_size = 0.2, random_state = 0)"
      ],
      "execution_count": 0,
      "outputs": []
    },
    {
      "cell_type": "markdown",
      "metadata": {
        "id": "RE_FcHyfV3TQ",
        "colab_type": "text"
      },
      "source": [
        "### Feature Scaling"
      ]
    },
    {
      "cell_type": "code",
      "metadata": {
        "id": "ViCrE00rV8Sk",
        "colab_type": "code",
        "colab": {}
      },
      "source": [
        "from sklearn.preprocessing import StandardScaler\n",
        "sc = StandardScaler()\n",
        "X_train = sc.fit_transform(X_train)\n",
        "X_test = sc.transform(X_test)"
      ],
      "execution_count": 0,
      "outputs": []
    },
    {
      "cell_type": "code",
      "metadata": {
        "id": "MTS2DyCEX6bh",
        "colab_type": "code",
        "colab": {
          "base_uri": "https://localhost:8080/",
          "height": 136
        },
        "outputId": "378263b9-c050-4b58-8807-2944661736cb"
      },
      "source": [
        "print(X_test)"
      ],
      "execution_count": 8,
      "outputs": [
        {
          "output_type": "stream",
          "text": [
            "[[-0.77000464 -2.18217308  2.08030018  0.08130195]\n",
            " [ 1.65638872 -0.32963963 -0.24955469  1.09660204]\n",
            " [-0.85562469  0.31202402 -0.78293531 -1.301957  ]\n",
            " ...\n",
            " [-0.90845183  0.19704581 -0.89473831 -0.59885426]\n",
            " [ 0.02407911  0.29131655 -1.3598972  -1.26353714]\n",
            " [-1.68223069  0.72303272 -0.19163475 -2.05646189]]\n"
          ],
          "name": "stdout"
        }
      ]
    },
    {
      "cell_type": "markdown",
      "metadata": {
        "id": "-zfEzkRVXIwF",
        "colab_type": "text"
      },
      "source": [
        "## Part 2 - Building the ANN"
      ]
    },
    {
      "cell_type": "markdown",
      "metadata": {
        "id": "KvdeScabXtlB",
        "colab_type": "text"
      },
      "source": [
        "### Initializing the ANN"
      ]
    },
    {
      "cell_type": "code",
      "metadata": {
        "id": "3dtrScHxXQox",
        "colab_type": "code",
        "colab": {}
      },
      "source": [
        "ann = tf.keras.models.Sequential()"
      ],
      "execution_count": 0,
      "outputs": []
    },
    {
      "cell_type": "markdown",
      "metadata": {
        "id": "rP6urV6SX7kS",
        "colab_type": "text"
      },
      "source": [
        "### Adding the input layer and the first hidden layer"
      ]
    },
    {
      "cell_type": "code",
      "metadata": {
        "id": "bppGycBXYCQr",
        "colab_type": "code",
        "colab": {}
      },
      "source": [
        "ann.add(tf.keras.layers.Dense(units=6, activation='relu'))"
      ],
      "execution_count": 0,
      "outputs": []
    },
    {
      "cell_type": "markdown",
      "metadata": {
        "id": "BELWAc_8YJze",
        "colab_type": "text"
      },
      "source": [
        "### Adding the second hidden layer"
      ]
    },
    {
      "cell_type": "code",
      "metadata": {
        "id": "JneR0u0sYRTd",
        "colab_type": "code",
        "colab": {}
      },
      "source": [
        "ann.add(tf.keras.layers.Dense(units=6, activation='relu'))"
      ],
      "execution_count": 0,
      "outputs": []
    },
    {
      "cell_type": "markdown",
      "metadata": {
        "id": "OyNEe6RXYcU4",
        "colab_type": "text"
      },
      "source": [
        "### Adding the output layer"
      ]
    },
    {
      "cell_type": "code",
      "metadata": {
        "id": "Cn3x41RBYfvY",
        "colab_type": "code",
        "colab": {}
      },
      "source": [
        "ann.add(tf.keras.layers.Dense(units=1, activation='sigmoid'))"
      ],
      "execution_count": 0,
      "outputs": []
    },
    {
      "cell_type": "markdown",
      "metadata": {
        "id": "JT4u2S1_Y4WG",
        "colab_type": "text"
      },
      "source": [
        "## Part 3 - Training the ANN"
      ]
    },
    {
      "cell_type": "markdown",
      "metadata": {
        "id": "8GWlJChhY_ZI",
        "colab_type": "text"
      },
      "source": [
        "### Compiling the ANN"
      ]
    },
    {
      "cell_type": "code",
      "metadata": {
        "id": "fG3RrwDXZEaS",
        "colab_type": "code",
        "colab": {}
      },
      "source": [
        "ann.compile(optimizer = 'adam', loss = 'binary_crossentropy', metrics = ['accuracy'])"
      ],
      "execution_count": 0,
      "outputs": []
    },
    {
      "cell_type": "markdown",
      "metadata": {
        "id": "0QR_G5u7ZLSM",
        "colab_type": "text"
      },
      "source": [
        "### Training the ANN on the Training set"
      ]
    },
    {
      "cell_type": "code",
      "metadata": {
        "id": "nHZ-LKv_ZRb3",
        "colab_type": "code",
        "outputId": "772a740f-7788-412c-a3ac-2e55abb86678",
        "colab": {
          "base_uri": "https://localhost:8080/",
          "height": 1000
        }
      },
      "source": [
        "ann.fit(X_train, y_train, batch_size = 32, epochs = 100)"
      ],
      "execution_count": 18,
      "outputs": [
        {
          "output_type": "stream",
          "text": [
            "Epoch 1/100\n",
            "35/35 [==============================] - 0s 1ms/step - loss: 2.1012e-04 - accuracy: 1.0000\n",
            "Epoch 2/100\n",
            "35/35 [==============================] - 0s 1ms/step - loss: 2.0602e-04 - accuracy: 1.0000\n",
            "Epoch 3/100\n",
            "35/35 [==============================] - 0s 1ms/step - loss: 2.0361e-04 - accuracy: 1.0000\n",
            "Epoch 4/100\n",
            "35/35 [==============================] - 0s 1ms/step - loss: 2.0276e-04 - accuracy: 1.0000\n",
            "Epoch 5/100\n",
            "35/35 [==============================] - 0s 1ms/step - loss: 1.9786e-04 - accuracy: 1.0000\n",
            "Epoch 6/100\n",
            "35/35 [==============================] - 0s 1ms/step - loss: 1.8856e-04 - accuracy: 1.0000\n",
            "Epoch 7/100\n",
            "35/35 [==============================] - 0s 1ms/step - loss: 1.9203e-04 - accuracy: 1.0000\n",
            "Epoch 8/100\n",
            "35/35 [==============================] - 0s 1ms/step - loss: 1.8926e-04 - accuracy: 1.0000\n",
            "Epoch 9/100\n",
            "35/35 [==============================] - 0s 1ms/step - loss: 1.7751e-04 - accuracy: 1.0000\n",
            "Epoch 10/100\n",
            "35/35 [==============================] - 0s 1ms/step - loss: 1.7642e-04 - accuracy: 1.0000\n",
            "Epoch 11/100\n",
            "35/35 [==============================] - 0s 1ms/step - loss: 1.7366e-04 - accuracy: 1.0000\n",
            "Epoch 12/100\n",
            "35/35 [==============================] - 0s 1ms/step - loss: 1.6879e-04 - accuracy: 1.0000\n",
            "Epoch 13/100\n",
            "35/35 [==============================] - 0s 1ms/step - loss: 1.6615e-04 - accuracy: 1.0000\n",
            "Epoch 14/100\n",
            "35/35 [==============================] - 0s 1ms/step - loss: 1.6211e-04 - accuracy: 1.0000\n",
            "Epoch 15/100\n",
            "35/35 [==============================] - 0s 1ms/step - loss: 1.6002e-04 - accuracy: 1.0000\n",
            "Epoch 16/100\n",
            "35/35 [==============================] - 0s 1ms/step - loss: 1.5654e-04 - accuracy: 1.0000\n",
            "Epoch 17/100\n",
            "35/35 [==============================] - 0s 1ms/step - loss: 1.5275e-04 - accuracy: 1.0000\n",
            "Epoch 18/100\n",
            "35/35 [==============================] - 0s 1ms/step - loss: 1.5047e-04 - accuracy: 1.0000\n",
            "Epoch 19/100\n",
            "35/35 [==============================] - 0s 1ms/step - loss: 1.4960e-04 - accuracy: 1.0000\n",
            "Epoch 20/100\n",
            "35/35 [==============================] - 0s 1ms/step - loss: 1.4282e-04 - accuracy: 1.0000\n",
            "Epoch 21/100\n",
            "35/35 [==============================] - 0s 1ms/step - loss: 1.4030e-04 - accuracy: 1.0000\n",
            "Epoch 22/100\n",
            "35/35 [==============================] - 0s 1ms/step - loss: 1.3906e-04 - accuracy: 1.0000\n",
            "Epoch 23/100\n",
            "35/35 [==============================] - 0s 1ms/step - loss: 1.3826e-04 - accuracy: 1.0000\n",
            "Epoch 24/100\n",
            "35/35 [==============================] - 0s 1ms/step - loss: 1.3322e-04 - accuracy: 1.0000\n",
            "Epoch 25/100\n",
            "35/35 [==============================] - 0s 1ms/step - loss: 1.3033e-04 - accuracy: 1.0000\n",
            "Epoch 26/100\n",
            "35/35 [==============================] - 0s 1ms/step - loss: 1.2797e-04 - accuracy: 1.0000\n",
            "Epoch 27/100\n",
            "35/35 [==============================] - 0s 1ms/step - loss: 1.2693e-04 - accuracy: 1.0000\n",
            "Epoch 28/100\n",
            "35/35 [==============================] - 0s 1ms/step - loss: 1.2245e-04 - accuracy: 1.0000\n",
            "Epoch 29/100\n",
            "35/35 [==============================] - 0s 1ms/step - loss: 1.1913e-04 - accuracy: 1.0000\n",
            "Epoch 30/100\n",
            "35/35 [==============================] - 0s 1ms/step - loss: 1.1877e-04 - accuracy: 1.0000\n",
            "Epoch 31/100\n",
            "35/35 [==============================] - 0s 1ms/step - loss: 1.1602e-04 - accuracy: 1.0000\n",
            "Epoch 32/100\n",
            "35/35 [==============================] - 0s 1ms/step - loss: 1.1338e-04 - accuracy: 1.0000\n",
            "Epoch 33/100\n",
            "35/35 [==============================] - 0s 1ms/step - loss: 1.1310e-04 - accuracy: 1.0000\n",
            "Epoch 34/100\n",
            "35/35 [==============================] - 0s 1ms/step - loss: 1.1105e-04 - accuracy: 1.0000\n",
            "Epoch 35/100\n",
            "35/35 [==============================] - 0s 1ms/step - loss: 1.0810e-04 - accuracy: 1.0000\n",
            "Epoch 36/100\n",
            "35/35 [==============================] - 0s 1ms/step - loss: 1.0421e-04 - accuracy: 1.0000\n",
            "Epoch 37/100\n",
            "35/35 [==============================] - 0s 1ms/step - loss: 1.0325e-04 - accuracy: 1.0000\n",
            "Epoch 38/100\n",
            "35/35 [==============================] - 0s 1ms/step - loss: 1.0243e-04 - accuracy: 1.0000\n",
            "Epoch 39/100\n",
            "35/35 [==============================] - 0s 1ms/step - loss: 9.9524e-05 - accuracy: 1.0000\n",
            "Epoch 40/100\n",
            "35/35 [==============================] - 0s 1ms/step - loss: 1.0018e-04 - accuracy: 1.0000\n",
            "Epoch 41/100\n",
            "35/35 [==============================] - 0s 1ms/step - loss: 9.5176e-05 - accuracy: 1.0000\n",
            "Epoch 42/100\n",
            "35/35 [==============================] - 0s 1ms/step - loss: 9.4298e-05 - accuracy: 1.0000\n",
            "Epoch 43/100\n",
            "35/35 [==============================] - 0s 1ms/step - loss: 9.0280e-05 - accuracy: 1.0000\n",
            "Epoch 44/100\n",
            "35/35 [==============================] - 0s 1ms/step - loss: 9.0464e-05 - accuracy: 1.0000\n",
            "Epoch 45/100\n",
            "35/35 [==============================] - 0s 1ms/step - loss: 8.6805e-05 - accuracy: 1.0000\n",
            "Epoch 46/100\n",
            "35/35 [==============================] - 0s 1ms/step - loss: 8.6275e-05 - accuracy: 1.0000\n",
            "Epoch 47/100\n",
            "35/35 [==============================] - 0s 1ms/step - loss: 8.4810e-05 - accuracy: 1.0000\n",
            "Epoch 48/100\n",
            "35/35 [==============================] - 0s 1ms/step - loss: 8.6815e-05 - accuracy: 1.0000\n",
            "Epoch 49/100\n",
            "35/35 [==============================] - 0s 1ms/step - loss: 8.1346e-05 - accuracy: 1.0000\n",
            "Epoch 50/100\n",
            "35/35 [==============================] - 0s 1ms/step - loss: 7.8890e-05 - accuracy: 1.0000\n",
            "Epoch 51/100\n",
            "35/35 [==============================] - 0s 1ms/step - loss: 7.8492e-05 - accuracy: 1.0000\n",
            "Epoch 52/100\n",
            "35/35 [==============================] - 0s 1ms/step - loss: 7.6680e-05 - accuracy: 1.0000\n",
            "Epoch 53/100\n",
            "35/35 [==============================] - 0s 1ms/step - loss: 7.4796e-05 - accuracy: 1.0000\n",
            "Epoch 54/100\n",
            "35/35 [==============================] - 0s 1ms/step - loss: 7.4420e-05 - accuracy: 1.0000\n",
            "Epoch 55/100\n",
            "35/35 [==============================] - 0s 1ms/step - loss: 7.1983e-05 - accuracy: 1.0000\n",
            "Epoch 56/100\n",
            "35/35 [==============================] - 0s 1ms/step - loss: 7.0482e-05 - accuracy: 1.0000\n",
            "Epoch 57/100\n",
            "35/35 [==============================] - 0s 1ms/step - loss: 6.9151e-05 - accuracy: 1.0000\n",
            "Epoch 58/100\n",
            "35/35 [==============================] - 0s 1ms/step - loss: 7.0320e-05 - accuracy: 1.0000\n",
            "Epoch 59/100\n",
            "35/35 [==============================] - 0s 1ms/step - loss: 6.6754e-05 - accuracy: 1.0000\n",
            "Epoch 60/100\n",
            "35/35 [==============================] - 0s 1ms/step - loss: 6.5745e-05 - accuracy: 1.0000\n",
            "Epoch 61/100\n",
            "35/35 [==============================] - 0s 1ms/step - loss: 6.4664e-05 - accuracy: 1.0000\n",
            "Epoch 62/100\n",
            "35/35 [==============================] - 0s 1ms/step - loss: 6.3750e-05 - accuracy: 1.0000\n",
            "Epoch 63/100\n",
            "35/35 [==============================] - 0s 1ms/step - loss: 6.5661e-05 - accuracy: 1.0000\n",
            "Epoch 64/100\n",
            "35/35 [==============================] - 0s 1ms/step - loss: 6.1095e-05 - accuracy: 1.0000\n",
            "Epoch 65/100\n",
            "35/35 [==============================] - 0s 1ms/step - loss: 5.9992e-05 - accuracy: 1.0000\n",
            "Epoch 66/100\n",
            "35/35 [==============================] - 0s 1ms/step - loss: 5.8345e-05 - accuracy: 1.0000\n",
            "Epoch 67/100\n",
            "35/35 [==============================] - 0s 1ms/step - loss: 5.7871e-05 - accuracy: 1.0000\n",
            "Epoch 68/100\n",
            "35/35 [==============================] - 0s 1ms/step - loss: 5.9783e-05 - accuracy: 1.0000\n",
            "Epoch 69/100\n",
            "35/35 [==============================] - 0s 1ms/step - loss: 5.5320e-05 - accuracy: 1.0000\n",
            "Epoch 70/100\n",
            "35/35 [==============================] - 0s 1ms/step - loss: 5.4672e-05 - accuracy: 1.0000\n",
            "Epoch 71/100\n",
            "35/35 [==============================] - 0s 1ms/step - loss: 5.4554e-05 - accuracy: 1.0000\n",
            "Epoch 72/100\n",
            "35/35 [==============================] - 0s 1ms/step - loss: 5.3419e-05 - accuracy: 1.0000\n",
            "Epoch 73/100\n",
            "35/35 [==============================] - 0s 1ms/step - loss: 5.1193e-05 - accuracy: 1.0000\n",
            "Epoch 74/100\n",
            "35/35 [==============================] - 0s 1ms/step - loss: 5.0615e-05 - accuracy: 1.0000\n",
            "Epoch 75/100\n",
            "35/35 [==============================] - 0s 1ms/step - loss: 4.9218e-05 - accuracy: 1.0000\n",
            "Epoch 76/100\n",
            "35/35 [==============================] - 0s 1ms/step - loss: 4.8513e-05 - accuracy: 1.0000\n",
            "Epoch 77/100\n",
            "35/35 [==============================] - 0s 1ms/step - loss: 4.7643e-05 - accuracy: 1.0000\n",
            "Epoch 78/100\n",
            "35/35 [==============================] - 0s 1ms/step - loss: 4.7592e-05 - accuracy: 1.0000\n",
            "Epoch 79/100\n",
            "35/35 [==============================] - 0s 1ms/step - loss: 4.5294e-05 - accuracy: 1.0000\n",
            "Epoch 80/100\n",
            "35/35 [==============================] - 0s 1ms/step - loss: 4.4703e-05 - accuracy: 1.0000\n",
            "Epoch 81/100\n",
            "35/35 [==============================] - 0s 1ms/step - loss: 4.4589e-05 - accuracy: 1.0000\n",
            "Epoch 82/100\n",
            "35/35 [==============================] - 0s 1ms/step - loss: 4.3920e-05 - accuracy: 1.0000\n",
            "Epoch 83/100\n",
            "35/35 [==============================] - 0s 1ms/step - loss: 4.2439e-05 - accuracy: 1.0000\n",
            "Epoch 84/100\n",
            "35/35 [==============================] - 0s 1ms/step - loss: 4.1837e-05 - accuracy: 1.0000\n",
            "Epoch 85/100\n",
            "35/35 [==============================] - 0s 1ms/step - loss: 4.1160e-05 - accuracy: 1.0000\n",
            "Epoch 86/100\n",
            "35/35 [==============================] - 0s 1ms/step - loss: 4.1072e-05 - accuracy: 1.0000\n",
            "Epoch 87/100\n",
            "35/35 [==============================] - 0s 1ms/step - loss: 4.0525e-05 - accuracy: 1.0000\n",
            "Epoch 88/100\n",
            "35/35 [==============================] - 0s 1ms/step - loss: 3.8893e-05 - accuracy: 1.0000\n",
            "Epoch 89/100\n",
            "35/35 [==============================] - 0s 1ms/step - loss: 3.7756e-05 - accuracy: 1.0000\n",
            "Epoch 90/100\n",
            "35/35 [==============================] - 0s 1ms/step - loss: 3.7461e-05 - accuracy: 1.0000\n",
            "Epoch 91/100\n",
            "35/35 [==============================] - 0s 1ms/step - loss: 3.6759e-05 - accuracy: 1.0000\n",
            "Epoch 92/100\n",
            "35/35 [==============================] - 0s 1ms/step - loss: 3.5904e-05 - accuracy: 1.0000\n",
            "Epoch 93/100\n",
            "35/35 [==============================] - 0s 1ms/step - loss: 3.5823e-05 - accuracy: 1.0000\n",
            "Epoch 94/100\n",
            "35/35 [==============================] - 0s 1ms/step - loss: 3.4864e-05 - accuracy: 1.0000\n",
            "Epoch 95/100\n",
            "35/35 [==============================] - 0s 1ms/step - loss: 3.4858e-05 - accuracy: 1.0000\n",
            "Epoch 96/100\n",
            "35/35 [==============================] - 0s 1ms/step - loss: 3.3664e-05 - accuracy: 1.0000\n",
            "Epoch 97/100\n",
            "35/35 [==============================] - 0s 1ms/step - loss: 3.2744e-05 - accuracy: 1.0000\n",
            "Epoch 98/100\n",
            "35/35 [==============================] - 0s 1ms/step - loss: 3.2185e-05 - accuracy: 1.0000\n",
            "Epoch 99/100\n",
            "35/35 [==============================] - 0s 1ms/step - loss: 3.2609e-05 - accuracy: 1.0000\n",
            "Epoch 100/100\n",
            "35/35 [==============================] - 0s 1ms/step - loss: 3.1471e-05 - accuracy: 1.0000\n"
          ],
          "name": "stdout"
        },
        {
          "output_type": "execute_result",
          "data": {
            "text/plain": [
              "<tensorflow.python.keras.callbacks.History at 0x7f2116461588>"
            ]
          },
          "metadata": {
            "tags": []
          },
          "execution_count": 18
        }
      ]
    },
    {
      "cell_type": "markdown",
      "metadata": {
        "id": "tJj5k2MxZga3",
        "colab_type": "text"
      },
      "source": [
        "## Part 4 - Making the predictions and evaluating the model"
      ]
    },
    {
      "cell_type": "markdown",
      "metadata": {
        "id": "u7yx47jPZt11",
        "colab_type": "text"
      },
      "source": [
        "### Predicting the Test set results"
      ]
    },
    {
      "cell_type": "code",
      "metadata": {
        "id": "nIyEeQdRZwgs",
        "colab_type": "code",
        "colab": {}
      },
      "source": [
        "y_pred = ann.predict(X_test)\n",
        "y_pred = (y_pred > 0.5)\n",
        "print(np.concatenate((y_pred.reshape(len(y_pred),1), y_test.reshape(len(y_test),1)),1))"
      ],
      "execution_count": 0,
      "outputs": []
    },
    {
      "cell_type": "markdown",
      "metadata": {
        "id": "o0oyfLWoaEGw",
        "colab_type": "text"
      },
      "source": [
        "### Making the Confusion Matrix"
      ]
    },
    {
      "cell_type": "code",
      "metadata": {
        "id": "ci6K_r6LaF6P",
        "colab_type": "code",
        "outputId": "32daea04-cd3f-4d21-b3ee-b7e101cd9776",
        "colab": {
          "base_uri": "https://localhost:8080/",
          "height": 68
        }
      },
      "source": [
        "from sklearn.metrics import confusion_matrix, accuracy_score\n",
        "cm = confusion_matrix(y_test, y_pred)\n",
        "print(cm)\n",
        "accuracy_score(y_test, y_pred)"
      ],
      "execution_count": 22,
      "outputs": [
        {
          "output_type": "stream",
          "text": [
            "[[157   0]\n",
            " [  0 118]]\n"
          ],
          "name": "stdout"
        },
        {
          "output_type": "execute_result",
          "data": {
            "text/plain": [
              "1.0"
            ]
          },
          "metadata": {
            "tags": []
          },
          "execution_count": 22
        }
      ]
    }
  ]
}